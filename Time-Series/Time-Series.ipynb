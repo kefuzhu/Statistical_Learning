{
 "cells": [
  {
   "attachments": {},
   "cell_type": "markdown",
   "id": "263d5560",
   "metadata": {},
   "source": [
    "# Time Series\n",
    "\n",
    "- ACF (Autocorrelation Function) and PACF (Partial Autocorrelation Function)\n",
    "- Trend, Seasonality and Stationary\n",
    "- ARMIA (Auto-Regressive Integrated Moving Average)\n",
    "- Unit Root"
   ]
  },
  {
   "attachments": {},
   "cell_type": "markdown",
   "id": "6deaab65",
   "metadata": {},
   "source": []
  },
  {
   "cell_type": "code",
   "execution_count": null,
   "id": "d606bb77",
   "metadata": {
    "vscode": {
     "languageId": "plaintext"
    }
   },
   "outputs": [],
   "source": []
  },
  {
   "cell_type": "code",
   "execution_count": null,
   "id": "516971fb",
   "metadata": {},
   "outputs": [],
   "source": []
  },
  {
   "cell_type": "code",
   "execution_count": null,
   "id": "822e3f2c",
   "metadata": {},
   "outputs": [],
   "source": []
  }
 ],
 "metadata": {
  "kernelspec": {
   "display_name": "Python 3 (ipykernel)",
   "language": "python",
   "name": "python3"
  },
  "language_info": {
   "codemirror_mode": {
    "name": "ipython",
    "version": 3
   },
   "file_extension": ".py",
   "mimetype": "text/x-python",
   "name": "python",
   "nbconvert_exporter": "python",
   "pygments_lexer": "ipython3",
   "version": "3.9.7"
  }
 },
 "nbformat": 4,
 "nbformat_minor": 5
}
