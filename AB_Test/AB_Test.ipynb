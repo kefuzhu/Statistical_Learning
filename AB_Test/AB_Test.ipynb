{
 "cells": [
  {
   "cell_type": "markdown",
   "id": "c10082ba",
   "metadata": {},
   "source": [
    "# A/B Test\n",
    "\n",
    "**Content**\n",
    "\n",
    "1. Key Principals\n",
    "2. Estimate required sample size\n",
    "3. Network Effect\n",
    "4. Primacy and novelty effects"
   ]
  },
  {
   "cell_type": "markdown",
   "id": "48d333ad",
   "metadata": {},
   "source": [
    "## 1. Key Principles\n",
    "\n",
    "1. Controll Type I Error\n",
    "2. Minimize Type II Error"
   ]
  },
  {
   "cell_type": "markdown",
   "id": "326f2c2e",
   "metadata": {},
   "source": [
    "## 2. Estimate Required Sample Size\n",
    "\n",
    "(1) Two Means\n",
    "\n",
    "<center>\n",
    "$sample\\ size\\ (n) = \\frac{{\\sigma}^2}{{\\Delta}^2} (Z_{\\alpha/2} + Z_{\\beta})^2 \\approx \\frac{16 {\\sigma}^2}{{\\Delta}^2}$\n",
    "</center>\n",
    "\n",
    "- $\\sigma$ (sample variance)\n",
    "- $\\Delta$ (difference between control and treatment)\n",
    "- $\\alpha$ (Type I Error, false positive rate, 0.05 is the common value)\n",
    "- $\\beta$ (Type II Error, false negative rate, 0.2 is the common value)\n",
    "\n",
    "**[Derivation](https://www.youtube.com/watch?v=JEAsoUrX6KQ)**: Central limit therorem: $\\bar{X} \\sim N (\\Delta, \\frac{\\sigma^2 + \\sigma^2}{n})$\n",
    "\n",
    "(2) Two Proportions\n",
    "\n",
    "<center>\n",
    "$sample\\ size\\ (n) = \\frac{(Z_{\\alpha/2} \\cdot \\sqrt{2 \\cdot \\frac{(p_1 + p_2)}{2} \\cdot (1 - \\frac{(p_1 + p_2)}{2})} + Z_{\\beta} \\cdot \\sqrt{p_1 \\cdot (1 - p_1) + p_2 \\cdot (1 - p_2)})^2}{|p_1 - p_2|^2}$\n",
    "</center>\n",
    "\n",
    "**Note**: Because A/B test usually involves two groups (control and treatment), hence the required sample size should be $2n$\n",
    "\n",
    "Reference: https://towardsdatascience.com/required-sample-size-for-a-b-testing-6f6608dd330a"
   ]
  },
  {
   "cell_type": "code",
   "execution_count": 2,
   "id": "165ab189",
   "metadata": {},
   "outputs": [
    {
     "data": {
      "text/plain": [
       "132482.80728417353"
      ]
     },
     "execution_count": 2,
     "metadata": {},
     "output_type": "execute_result"
    }
   ],
   "source": [
    "from statsmodels.stats.power import zt_ind_solve_power\n",
    "from statsmodels.stats.proportion import proportion_effectsize as es\n",
    "\n",
    "zt_ind_solve_power(effect_size=es(prop1=0.30, prop2=0.305), alpha=0.05, power=0.8, alternative=\"two-sided\")\n",
    "\n",
    "# prop1 (p1) = 0.3\n",
    "# prop2 (p2) = 0.305\n",
    "# alpha (Type I error)\n",
    "# power (1-beta, 1-Type II error)"
   ]
  },
  {
   "cell_type": "markdown",
   "id": "7348c8a4",
   "metadata": {},
   "source": [
    "## 3. Network Effect\n",
    "\n",
    "**SUTVA (Stable Unit Treatment Value Assumption)**: Every user's behavior is affected only by their treatment and NOT by the treatment of other users\n",
    "\n",
    "SUTVA is the most basic assumption in any experimental design. However, SUTVA may not hold in product related to social connections (e.g. Facebook, Twitter), where users are connected with others and could be not only influenced by the treatment they receive, but also affected by other users and their reactions to different treatments.\n",
    "\n",
    "**Spill-over Effect**: Subjects/Users could communicate between the treatment and the control groups, which will cause users in the control group to be affected by the treatment as well\n",
    "\n",
    "**Possible Solutions** \n",
    "\n",
    "1. **Create control and treatment group in different time window**. Pros: Eliminate network effect, Cons: Inconsistent user experience across time. More suitable for experiment on backend where user would not directly experience the change\n",
    "2. **Create control and treatment group in different space**: Combine with synthetic control to analyze the causal relationship\n",
    "3. **Create control and treatment group in different spatiotemporal**: Alternating changes on space and/or time to creat diverse control/treatment pairs\n",
    "2. **Apply treatment on cluster-based randomized experiment**. Reference: [Detecting Network Effects: Randomizing Over Randomized Experiments](https://www.youtube.com/watch?v=1v5_CzdRVAc&t=116s)"
   ]
  },
  {
   "cell_type": "markdown",
   "id": "80cc94c1",
   "metadata": {},
   "source": [
    "## 4. Primacy and novelty effects\n",
    "\n",
    "**Primacy Effect**: users are resistant to change. For example, we are interested in learning how a new version update would affect the CTR. The new version is so different from the old version, making experienced users confused and click (open) multiple links.\n",
    "\n",
    "**Novelty Effect**: users are temporarilty excited by new things. For example, existing users want to try out all new functions, which leads to an increase in the metrics (e.g. CTR).\n",
    "\n",
    "*Note*: Any increase or decrease in the metric due to the primacy and novelty effects quickly dies out in days"
   ]
  },
  {
   "cell_type": "code",
   "execution_count": null,
   "id": "ec2c8dd9",
   "metadata": {},
   "outputs": [],
   "source": []
  }
 ],
 "metadata": {
  "kernelspec": {
   "display_name": "Python 3 (ipykernel)",
   "language": "python",
   "name": "python3"
  },
  "language_info": {
   "codemirror_mode": {
    "name": "ipython",
    "version": 3
   },
   "file_extension": ".py",
   "mimetype": "text/x-python",
   "name": "python",
   "nbconvert_exporter": "python",
   "pygments_lexer": "ipython3",
   "version": "3.9.7"
  }
 },
 "nbformat": 4,
 "nbformat_minor": 5
}
