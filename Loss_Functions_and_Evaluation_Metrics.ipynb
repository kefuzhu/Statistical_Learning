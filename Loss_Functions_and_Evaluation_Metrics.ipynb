{
 "cells": [
  {
   "cell_type": "markdown",
   "id": "57a21388",
   "metadata": {},
   "source": []
  },
  {
   "cell_type": "markdown",
   "id": "611cc070",
   "metadata": {},
   "source": [
    "# Loss Functions & Evaluation Metrics\n",
    "\n",
    "This notebook contains a list of loss functions that appear in different algorithms and commonly used evaluation metrics\n",
    "\n",
    "**Loss Function**\n",
    "1. Least Square\n",
    "\n",
    "\n",
    "**Evaluation Metric (Accuracy)**\n",
    "1. MAE/MSE/RMSE/MPE/MAPE and their weighted version\n",
    "2. $R^2$\n",
    "\n",
    "**Evaluation Metric (Classification)**\n",
    "1. Confusion Matrix - Classification Accuracy, Precision, Recall/Sensitivity, Specificity, F1 score\n",
    "2. Somers'D/SRI\n",
    "3. ROC AUC/Gini Coefficient\n",
    "4. Presion-Recall AUC\n",
    "5. Log Loss\n",
    "6. Gain-Lift Chart\n",
    "7. Kolomogorov-Smirnov (KS) Statistics \n",
    "\n",
    "**Input Monitoring Metrics**\n",
    "1. Confidence Interval/Prediction Interval\n",
    "2. Population Stability Index (PSI)"
   ]
  },
  {
   "cell_type": "markdown",
   "id": "b2c2fe10",
   "metadata": {},
   "source": [
    "## Loss Function\n",
    "### 1. Least Square\n",
    "\n",
    "The least quares appeoach chooses $\\hat{\\beta}$ to minimize the **RSS (Residual Sum of Squares)**\n",
    "\n",
    "<br>\n",
    "<center>\n",
    "$RSS = (y_1 - \\hat{y_1})^2 + (y_2 - \\hat{y_2})^2 + (y_3 - \\hat{y_3})^2 + ... + (y_n - \\hat{y_n})^2$\n",
    "</center>\n",
    "\n",
    "ss"
   ]
  },
  {
   "cell_type": "code",
   "execution_count": null,
   "id": "bce6469d",
   "metadata": {},
   "outputs": [],
   "source": []
  },
  {
   "cell_type": "code",
   "execution_count": null,
   "id": "a6bba938",
   "metadata": {},
   "outputs": [],
   "source": []
  },
  {
   "cell_type": "markdown",
   "id": "b221cdd0",
   "metadata": {},
   "source": [
    "## Evaluation Metric (Classification)\n",
    "\n",
    "### 1. Confusion Matrix \n",
    "\n",
    "Confusion matrix is constructed by simply comparing classification predictions with actual values such as below:\n",
    "\n",
    "![confusion_matrix](figure_materials/confusion_matrix.png)\n",
    "\n",
    "Multiple evaluation metrics can be derived from the confusion matrix:\n",
    "- **Type I error/False Alarm**: Number of incorrect positive predictions\n",
    "- **Type II error/Miss**: Number of positive classes that the model misses in prediction\n",
    "- **Precision/PPV (Positive Predicted Value)**: Out of all the examples that predicted as positive, how many are really positive?\n",
    "- **Recall/TPR (True Positive Rate)**: Out of all the positive examples, how many are predicted as positive?\n",
    "- **Sensitivity/Recall**: Out of all the people that have the disease, how many got positive test results?\n",
    "- **Specificity**: Out of all the people that do not have the disease, how many got negative results?\n",
    "- **Classification accuracy**\n",
    "\n",
    "Additionaly, we have the following metrics that are derived further to accomodating multiple conflicting interests\n",
    "- **F1 score**: It is a harmonic mean between **precision** and **recall** with the range of [0,1]. This metric usually tells us how <ins>precise</ins> (It correctly classifies how many instances) and <ins>robust</ins> (does not miss any significant number of instances) our classifier is\n",
    "<center>\n",
    "$F1 score = \\frac{2 \\times Precision \\times Recall}{Precision + Recall}$\n",
    "</center>\n",
    "- **F-beta score**"
   ]
  },
  {
   "cell_type": "code",
   "execution_count": null,
   "id": "0dedd044",
   "metadata": {},
   "outputs": [],
   "source": []
  },
  {
   "cell_type": "code",
   "execution_count": null,
   "id": "a9354e12",
   "metadata": {},
   "outputs": [],
   "source": [
    "m"
   ]
  }
 ],
 "metadata": {
  "kernelspec": {
   "display_name": "Python 3 (ipykernel)",
   "language": "python",
   "name": "python3"
  },
  "language_info": {
   "codemirror_mode": {
    "name": "ipython",
    "version": 3
   },
   "file_extension": ".py",
   "mimetype": "text/x-python",
   "name": "python",
   "nbconvert_exporter": "python",
   "pygments_lexer": "ipython3",
   "version": "3.9.7"
  }
 },
 "nbformat": 4,
 "nbformat_minor": 5
}
