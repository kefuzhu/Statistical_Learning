{
 "cells": [
  {
   "cell_type": "markdown",
   "id": "a258d692",
   "metadata": {},
   "source": [
    "# Collection of Random Topics\n",
    "\n",
    "This notebook contains a list of random topics that do not fall exclusively under any categories covered in other directories/folders\n",
    "\n",
    "1. Bias and Variance Trade-Off\n",
    "2. Curse of dimensionality\n",
    "3. Bayes' Theorem"
   ]
  },
  {
   "cell_type": "markdown",
   "id": "da39084d",
   "metadata": {},
   "source": [
    "## 1. Bias and Variance Trade-Off\n",
    "\n",
    "$\\because$ MSE (Mean Squared Error) = $E(\\hat{f}(x) - y)^2 = E[{\\hat{f}(x)}^2] - 2E[\\hat{f}(x)]y + y^2$\n",
    "\n",
    "${Bias}^2(\\hat{f}(x)) = (E[{\\hat{f}(x)}] - y)^2 = E^2[{\\hat{f}(x)}] - 2E[\\hat{f}(x)]y + y^2$\n",
    "\n",
    "$Var(\\hat{f}(x)) = E[\\hat{f}(x)^2] - E^2[\\hat{f}(x)]$\n",
    "\n",
    "$\\therefore MSE = {Bias}^2 + Variance$"
   ]
  },
  {
   "cell_type": "markdown",
   "id": "af053489",
   "metadata": {},
   "source": [
    "## 2. Curse of dimensionality\n",
    "\n",
    "As a general rule, parametric methods will tend to outperform non-parametric approaches when there is a small number of observations per predictor. For instance, for KNN algorithm, spreading $100$ observations over $p=20$ dimensions results in a phenomenon in which a given observation has no nearby neghbors."
   ]
  },
  {
   "cell_type": "markdown",
   "id": "9e8ef4d1",
   "metadata": {},
   "source": [
    "## 3. Bayes' Theorem\n",
    "\n",
    "The probability of an event based on prior konwledge of conditions that might be related to the event\n",
    "\n",
    "<center>\n",
    "$P(A|B) = \\frac{P(B|A)P(A)}{P(B)} = \\frac{P(B|A)P(A)}{P(B|A)P(A) + P(B|\\neg A)P(\\neg A)}$\n",
    "</center>\n",
    "\n"
   ]
  },
  {
   "cell_type": "code",
   "execution_count": null,
   "id": "7a48b318",
   "metadata": {},
   "outputs": [],
   "source": []
  }
 ],
 "metadata": {
  "kernelspec": {
   "display_name": "Python 3 (ipykernel)",
   "language": "python",
   "name": "python3"
  },
  "language_info": {
   "codemirror_mode": {
    "name": "ipython",
    "version": 3
   },
   "file_extension": ".py",
   "mimetype": "text/x-python",
   "name": "python",
   "nbconvert_exporter": "python",
   "pygments_lexer": "ipython3",
   "version": "3.9.7"
  }
 },
 "nbformat": 4,
 "nbformat_minor": 5
}
