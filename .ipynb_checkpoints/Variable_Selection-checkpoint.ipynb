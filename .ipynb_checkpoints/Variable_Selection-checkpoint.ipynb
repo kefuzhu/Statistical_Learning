{
 "cells": [
  {
   "cell_type": "markdown",
   "id": "fcc0a9ea",
   "metadata": {},
   "source": [
    "# Variable Selection\n",
    "\n",
    "This notebook contains a list of criterions that are commonly used in variable selection\n",
    "\n",
    "1. Mallow's $C_p$\n",
    "2. AIC (Akaike information criterion)\n",
    "3. BIC (Bayesian information criterion)\n",
    "4. $R^2$ and Adjusted $R^2$"
   ]
  },
  {
   "cell_type": "code",
   "execution_count": null,
   "id": "1c57f006",
   "metadata": {},
   "outputs": [],
   "source": []
  },
  {
   "cell_type": "markdown",
   "id": "f809f64b",
   "metadata": {},
   "source": [
    "## $R^2$ and Adjusted $R^2$\n",
    "\n",
    "### (1) $R^2$\n",
    "\n",
    "The $R^2$ statistic measures the proportion of variability in $Y$ that can be explained using $X$\n",
    "\n",
    "<br>\n",
    "<center>\n",
    "$R^2 = \\frac{TSS - RSS}{TSS} = 1 - \\frac{RSS}{TSS}$\n",
    "</center>\n",
    "\n",
    "- $TSS = \\sum(y_i - \\bar{y})^2$, total sum of squares, measures the total variance in the response $Y$\n",
    "- $RSS = \\sum(y_i - \\hat{y_i})^2$, residual sum of squares, measures the amount of variability that is left unexplained after the modeling\n",
    "\n",
    "### (2) Adjusted $R^2$\n",
    "\n",
    "The Adjusted $R^2$ statistic will penalize additional noise variables that can still lead to small decrease in **RSS** which can be translated into increase in $R^2$\n",
    "\n",
    "<br>\n",
    "<center>\n",
    "Adjusted $R^2 = 1 - \\frac{RSS/(n-d-1)}{TSS/(n-1)} = 1 - [\\frac{(1-R^2)(n-1)}{n-d-1}]$\n",
    "</center>\n",
    "\n",
    "- $n$, number of observations\n",
    "- $d$, number of variables/predictors"
   ]
  },
  {
   "cell_type": "code",
   "execution_count": null,
   "id": "2029085d",
   "metadata": {},
   "outputs": [],
   "source": []
  }
 ],
 "metadata": {
  "kernelspec": {
   "display_name": "Python 3 (ipykernel)",
   "language": "python",
   "name": "python3"
  },
  "language_info": {
   "codemirror_mode": {
    "name": "ipython",
    "version": 3
   },
   "file_extension": ".py",
   "mimetype": "text/x-python",
   "name": "python",
   "nbconvert_exporter": "python",
   "pygments_lexer": "ipython3",
   "version": "3.9.7"
  }
 },
 "nbformat": 4,
 "nbformat_minor": 5
}
