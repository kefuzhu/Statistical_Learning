{
 "cells": [
  {
   "cell_type": "markdown",
   "id": "65b2e4d6",
   "metadata": {},
   "source": [
    "# Logistic Regression\n",
    "\n",
    "\n",
    "## Assumptions\n",
    "\n",
    "1. **Independence of observations**: There is no relationship between each observation/data point. One opposite example is time-series data\n",
    "2. **Linear relationship**: the change in the response due to a one-unit change in a predictor is constant, regardless of the value of that predictor\n",
    "3. **Normality of residuals**: residuals should follow normal distribution, which can be assessed by histogram or Q-Q plot\n",
    "4. **No or little multicollinearity**: predictors should not be highly correlated with each other, which can be assessed by VIF (Variance Inflation Factor)\n",
    "5. **Homoscedasticity or constant variance**: the error is constant along the values of the predictor\n",
    "\n",
    "## Advantages\n",
    "\n",
    "1. TBD\n",
    "\n",
    "## Limitations\n",
    "\n",
    "1. TBD\n",
    "\n",
    "\n",
    "## Least Square\n",
    "\n",
    "The least quares appeoach chooses $\\hat{\\beta}$ to minimize the **RSS (Residual Sum of Squares)**\n",
    "\n",
    "<br>\n",
    "<center>\n",
    "$RSS = \\sum(y_i - \\hat{y_i})^2 = \\sum(y_i - \\hat{\\beta_0} - \\hat{\\beta_1}x_{i1} - \\hat{\\beta_2}x_{i2} - ... - \\hat{\\beta_p}x_{ip})^2$\n",
    "</center>\n",
    "\n",
    "## Stand Error, Confidence Interval, Hypothesis Test\n",
    "\n",
    "Sample mean $\\hat{\\mu}$ is an unbiased estimator to population mean $\\mu$, in the sense that on average, we expect $\\hat{\\mu}$ to equal $\\mu$. However, a single estimate $\\hat{\\mu}$ may be a substantial undersestimate or overestimate of $\\mu$. \n",
    "\n",
    "Standard error of $\\hat{\\mu}$, written as $SE(\\hat{\\mu})$, meansures how har off will that single estimate of $\\hat{\\mu}$ be\n",
    "\n",
    "<br>\n",
    "<center>\n",
    "$Var(\\hat{\\mu}) = SE(\\hat{\\mu}) = \\frac{\\sigma^2}{n}$\n",
    "</center>\n",
    "\n",
    "where $\\sigma$ is the standard deviation of each realization $y_i$ of $Y$\n",
    "\n",
    "In general, $\\sigma^2$ is unknown but can be estimated from the data. The estimate of $\\sigma$ is known as **RSE (Residual Standard Error)**\n",
    "\n",
    "<br>\n",
    "<center>\n",
    "$RSE = \\sqrt{RSS/(n-2)}$\n",
    "</center>\n",
    "\n",
    "Standard errors can be used to compute **confidence intervals**. A $95%$ confidence interval is defined as a range of values such that with $95%$ probability, the range will contain the true unknown value of the parameter.\n",
    "\n",
    "For linear regression, the 95% confidence interval for $\\beta_i$ approximately takes the form\n",
    "\n",
    "<br>\n",
    "<center>\n",
    "$\\hat{\\beta_i} \\pm 2 \\cdot SE(\\hat{\\beta_i})$\n",
    "</center>\n",
    "\n",
    "or more precisely\n",
    "<br>\n",
    "<center>\n",
    "$\\hat{\\beta_i} \\pm {t_{0.975,n-2}} \\cdot SE(\\hat{\\beta_i})$\n",
    "</center>\n",
    "    \n",
    "Standard errors can also be used to perform hypothesis tests on coefficients. For example, $H_0$: There is no relationship between $X_i$ and $Y$\n",
    "\n",
    "<br>\n",
    "<center>\n",
    "$H_0: \\beta_i = 0$\n",
    "</center>\n",
    "    \n",
    "To test the null hypothesis, we need to determine whether $\\hat{\\beta_i}$ is sufficiently far from zero that we can be confident that $\\beta_i$ is non-zero. In practice, we compute a **t-statistic** given by\n",
    "\n",
    "<br>\n",
    "<center>\n",
    "$t = \\frac{\\beta_i - 0}{SE(\\hat{\\beta_i})}$\n",
    "</center>\n",
    "    \n",
    "## $R^2$ Statistic\n",
    "    \n",
    "The $R^2$ statistic measures the proportion of variability in $Y$ that can be explained using $X$\n",
    "\n",
    "<br>\n",
    "<center>\n",
    "$R^2 = \\frac{TSS - RSS}{TSS} = 1 - \\frac{RSS}{TSS}$\n",
    "</center>\n",
    "\n",
    "- $TSS = \\sum(y_i - \\bar{y})^2$, total sum of squares, measures the total variance in the response $Y$\n",
    "- $RSS = \\sum(y_i - \\hat{y_i})^2$, residual sum of squares, measures the amount of variability that is left unexplained after the modeling\n",
    "\n",
    "## (1) Is there a relationship between the response and predictors?\n",
    "\n",
    "Perform hypothesis testing with \n",
    "<br>\n",
    "<center>\n",
    "$H_0: \\beta_1 = \\beta_2 = ... = \\beta_p = 0$\n",
    "<br>\n",
    "$H_a$: at least one \\beta_j is non-zero\n",
    "</center>\n",
    "\n",
    "The hypothesis test is performed by computing the F-statistic\n",
    "<br>\n",
    "<center>\n",
    "$F = \\frac{(TSS-RSS)/p}{RSS/(n-p-1)}$\n",
    "</center>\n",
    "\n",
    "**Note**: Individual p-values for each variable cannot be used to check if there is a relationship between response and predicttor. For instance, when $p = 100$ and $H_0: \\beta_1 = \\beta_2 = ... = \\beta_p = 0$ is true, no variable is truly associated with the response. However, still about $5\\%$ of the p-values associated with each variable can be below $0.05$ by chance.\n",
    "\n",
    "**Limitation**: The approach of using F-statistic to test for any association between the predictors and response works when $p$ is relatively small, and certainly smaller compared to $n$. If $p > n$ then there are more coefficients $\\beta_j$ to estimate than observations from which to estimate them.\n",
    "\n",
    "In this case, we cannot fit the multiple linear regression with least squares, so the F-statistic cannot be used.\n",
    "\n",
    "When $p$ is large, other approaches such as forward selection can be used\n",
    "\n",
    "## (2) Prediction\n",
    "\n",
    "- **Confidence Interval** is used to quantify the uncertainty surrounding the average `sales` over a *large number of cities*\n",
    "- **Prediction Interval** is used to quantify the uncertainty surrounding the average `sales` over a *particular city*\n",
    "\n",
    "Prediction interval is substantially wider than the confidence interval, reflecting the increased uncertainty about `sales` for a given city in comparison to the average `sales` over many locations"
   ]
  },
  {
   "cell_type": "markdown",
   "id": "03fa31fa",
   "metadata": {},
   "source": [
    "## Practice\n",
    "\n",
    "https://realpython.com/logistic-regression-python/"
   ]
  },
  {
   "cell_type": "code",
   "execution_count": 1,
   "id": "a866be41",
   "metadata": {},
   "outputs": [],
   "source": [
    "from sklearn.linear_model import LogisticRegression\n",
    "from sklearn.metrics import classification_report, confusion_matrix\n",
    "\n",
    "import numpy as np"
   ]
  },
  {
   "cell_type": "code",
   "execution_count": 2,
   "id": "8c7781f5",
   "metadata": {},
   "outputs": [],
   "source": [
    "x = np.arange(10).reshape(-1, 1)\n",
    "y = np.array([0, 0, 0, 0, 1, 1, 1, 1, 1, 1])"
   ]
  },
  {
   "cell_type": "code",
   "execution_count": 5,
   "id": "319ecdac",
   "metadata": {},
   "outputs": [
    {
     "data": {
      "text/plain": [
       "LogisticRegression(random_state=0, solver='liblinear')"
      ]
     },
     "execution_count": 5,
     "metadata": {},
     "output_type": "execute_result"
    }
   ],
   "source": [
    "model = LogisticRegression(solver='liblinear', random_state=0)\n",
    "model.fit(x,y)"
   ]
  },
  {
   "cell_type": "code",
   "execution_count": 6,
   "id": "85677178",
   "metadata": {},
   "outputs": [
    {
     "data": {
      "text/plain": [
       "array([-1.04608067])"
      ]
     },
     "execution_count": 6,
     "metadata": {},
     "output_type": "execute_result"
    }
   ],
   "source": [
    "model.intercept_"
   ]
  },
  {
   "cell_type": "code",
   "execution_count": 7,
   "id": "55285307",
   "metadata": {},
   "outputs": [
    {
     "data": {
      "text/plain": [
       "array([[0.51491375]])"
      ]
     },
     "execution_count": 7,
     "metadata": {},
     "output_type": "execute_result"
    }
   ],
   "source": [
    "model.coef_"
   ]
  },
  {
   "cell_type": "code",
   "execution_count": 8,
   "id": "6f4b0fb6",
   "metadata": {},
   "outputs": [
    {
     "data": {
      "text/plain": [
       "array([[0.74002157, 0.25997843],\n",
       "       [0.62975524, 0.37024476],\n",
       "       [0.5040632 , 0.4959368 ],\n",
       "       [0.37785549, 0.62214451],\n",
       "       [0.26628093, 0.73371907],\n",
       "       [0.17821501, 0.82178499],\n",
       "       [0.11472079, 0.88527921],\n",
       "       [0.07186982, 0.92813018],\n",
       "       [0.04422513, 0.95577487],\n",
       "       [0.02690569, 0.97309431]])"
      ]
     },
     "execution_count": 8,
     "metadata": {},
     "output_type": "execute_result"
    }
   ],
   "source": [
    "# Probability estimates\n",
    "model.predict_proba(x)"
   ]
  },
  {
   "cell_type": "code",
   "execution_count": 9,
   "id": "5720f088",
   "metadata": {},
   "outputs": [
    {
     "data": {
      "text/plain": [
       "array([0, 0, 0, 1, 1, 1, 1, 1, 1, 1])"
      ]
     },
     "execution_count": 9,
     "metadata": {},
     "output_type": "execute_result"
    }
   ],
   "source": [
    "# Predict class labels\n",
    "model.predict(x)"
   ]
  },
  {
   "cell_type": "code",
   "execution_count": 10,
   "id": "6fa85d68",
   "metadata": {},
   "outputs": [
    {
     "data": {
      "text/plain": [
       "0.9"
      ]
     },
     "execution_count": 10,
     "metadata": {},
     "output_type": "execute_result"
    }
   ],
   "source": [
    "# Return the mean accuracy on the given test data and labels\n",
    "model.score(x, y)"
   ]
  },
  {
   "cell_type": "code",
   "execution_count": null,
   "id": "3b175e71",
   "metadata": {},
   "outputs": [],
   "source": []
  }
 ],
 "metadata": {
  "kernelspec": {
   "display_name": "Python 3 (ipykernel)",
   "language": "python",
   "name": "python3"
  },
  "language_info": {
   "codemirror_mode": {
    "name": "ipython",
    "version": 3
   },
   "file_extension": ".py",
   "mimetype": "text/x-python",
   "name": "python",
   "nbconvert_exporter": "python",
   "pygments_lexer": "ipython3",
   "version": "3.9.7"
  }
 },
 "nbformat": 4,
 "nbformat_minor": 5
}
