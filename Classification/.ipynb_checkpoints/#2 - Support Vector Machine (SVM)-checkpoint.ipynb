{
 "cells": [
  {
   "cell_type": "markdown",
   "id": "2bf9e20c",
   "metadata": {},
   "source": [
    "# Support Vector Machine (SVM)\n",
    "\n",
    "SVM is a generalized version of maximal margin classifier. Rather than seeking a hyperplane with largest possible margin that can perfectly separate observations into correct classes (i.e. two sides of the hyperplane), which may suffer from overfitting or even non-existence of such hyperplane, SVM (also called a soft margin classifier) allow misclassification of a few tranining observations in order to achieve\n",
    "\n",
    "- Greater robustness to individual observations\n",
    "- Better classification of *most* of the training observations\n",
    "\n",
    "## Key Concepts\n",
    "\n",
    "1. **Hyperplane**: Hyperlane is a flat affine subspace of dimension $p - 1$ in a $p$-dimensional space\n",
    "2. **Support Vectors**: Vectors/Data points that are equidistant from the maximal margin hyperlane that they \"support\" the hyperplane in te sense that if these points are moved slightly then the maximal margin hyperplane would move as well\n",
    "3. **Kernel**: When observations are not linearly separable in the $p$-dimensional space, kernel can be applied to enlarge the feature space and find desirable decision boundaries on higher dimensional space\n",
    "\n",
    "## Assumptions\n",
    "\n",
    "None\n",
    "\n",
    "\n",
    "## Advantages\n",
    "\n",
    "1. **Stability**: Support vector classifier's decision rule (i.e. hyperplane) is only affected by a potentially small subset of the traning observations (i.e. support vectors). Therefore, **SVM is quite robust to the behavior of other observations that are far away from the hyperplane (i.e. extreme values)**\n",
    "\n",
    "2. SVM is more effective in high dimensional spaces\n",
    "\n",
    "3. SVM uses only a subset of training data (i.e. support vectors) in the decision function, which makes it memory efficient \n",
    "\n",
    "## Limitations\n",
    "\n",
    "1. Hyperplane used in SVM can only separate two classes (i.e. binary classification). Workarounds including *one-versus-one* and *one-versus all* can be used in addressing multiclass classification. However, it may not be effective.\n",
    "\n",
    "2. SVM does not perform well when the data set has more noise (i.e. target classes are overlapping in the feature space)\n",
    "\n",
    "3. SVM does not perform whell when the number of features exceeds the number of training data samples\n",
    "\n",
    "4. SVM cannot provide probabilistic explanation given the decisioning mechanism is based only on hyperplane\n",
    "\n",
    "5. **Choosing an appropriate kernel function is difficult**: In case of using a high dimensional kernel, SVM could generate too many support vectors which reduce the training speed drastically\n"
   ]
  },
  {
   "cell_type": "code",
   "execution_count": 4,
   "id": "2e62aa08",
   "metadata": {},
   "outputs": [],
   "source": [
    "import numpy as np\n",
    "from sklearn import svm, datasets"
   ]
  },
  {
   "cell_type": "code",
   "execution_count": 2,
   "id": "a85baff9",
   "metadata": {},
   "outputs": [],
   "source": [
    "iris = datasets.load_iris()\n",
    "X = iris.data[:, :2]\n",
    "y = iris.target"
   ]
  },
  {
   "cell_type": "code",
   "execution_count": 6,
   "id": "0b32a60f",
   "metadata": {},
   "outputs": [],
   "source": [
    "C = 1 # SVM regularization parameter\n",
    "svc = svm.SVC(kernel = 'linear', C = 1).fit(X,y)"
   ]
  },
  {
   "cell_type": "code",
   "execution_count": null,
   "id": "2bcb7972",
   "metadata": {},
   "outputs": [],
   "source": []
  }
 ],
 "metadata": {
  "kernelspec": {
   "display_name": "Python 3 (ipykernel)",
   "language": "python",
   "name": "python3"
  },
  "language_info": {
   "codemirror_mode": {
    "name": "ipython",
    "version": 3
   },
   "file_extension": ".py",
   "mimetype": "text/x-python",
   "name": "python",
   "nbconvert_exporter": "python",
   "pygments_lexer": "ipython3",
   "version": "3.9.7"
  }
 },
 "nbformat": 4,
 "nbformat_minor": 5
}
