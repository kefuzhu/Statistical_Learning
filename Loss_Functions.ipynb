{
 "cells": [
  {
   "cell_type": "markdown",
   "id": "57a21388",
   "metadata": {},
   "source": [
    "# Loss Functions\n",
    "\n",
    "This notebook contains a list of functions that appear in different algorithms\n",
    "\n",
    "1. Least Square"
   ]
  },
  {
   "cell_type": "markdown",
   "id": "b2c2fe10",
   "metadata": {},
   "source": [
    "## 1. Least Square\n",
    "\n",
    "The least quares appeoach chooses $\\hat{\\beta}$ to minimize the **RSS (Residual Sum of Squares)**\n",
    "\n",
    "<br>\n",
    "<center>\n",
    "$RSS = (y_1 - \\hat{y_1})^2 + (y_2 - \\hat{y_2})^2 + (y_3 - \\hat{y_3})^2 + ... + (y_n - \\hat{y_n})^2$\n",
    "</center>\n",
    "\n",
    "ss"
   ]
  },
  {
   "cell_type": "code",
   "execution_count": null,
   "id": "bce6469d",
   "metadata": {},
   "outputs": [],
   "source": []
  }
 ],
 "metadata": {
  "kernelspec": {
   "display_name": "Python 3 (ipykernel)",
   "language": "python",
   "name": "python3"
  },
  "language_info": {
   "codemirror_mode": {
    "name": "ipython",
    "version": 3
   },
   "file_extension": ".py",
   "mimetype": "text/x-python",
   "name": "python",
   "nbconvert_exporter": "python",
   "pygments_lexer": "ipython3",
   "version": "3.9.7"
  }
 },
 "nbformat": 4,
 "nbformat_minor": 5
}
